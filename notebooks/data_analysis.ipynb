{
 "cells": [
  {
   "cell_type": "code",
   "execution_count": 2,
   "metadata": {},
   "outputs": [],
   "source": [
    "import pandas as pd\n",
    "from wsdm_digg.constants import *"
   ]
  },
  {
   "cell_type": "code",
   "execution_count": 3,
   "metadata": {},
   "outputs": [
    {
     "name": "stderr",
     "output_type": "stream",
     "text": [
      "/home/yubin/.local/share/virtualenvs/wsdm-digg-2020-4mqxQG6x/lib/python3.6/site-packages/IPython/core/interactiveshell.py:3051: DtypeWarning: Columns (2) have mixed types. Specify dtype option on import or set low_memory=False.\n",
      "  interactivity=interactivity, compiler=compiler, result=result)\n"
     ]
    }
   ],
   "source": [
    "df = pd.read_csv(DATA_DIR + 'candidate_paper_for_wsdm2020.csv')"
   ]
  },
  {
   "cell_type": "code",
   "execution_count": 4,
   "metadata": {},
   "outputs": [
    {
     "data": {
      "text/plain": [
       "838939"
      ]
     },
     "execution_count": 4,
     "metadata": {},
     "output_type": "execute_result"
    }
   ],
   "source": [
    "len(df)"
   ]
  },
  {
   "cell_type": "code",
   "execution_count": 5,
   "metadata": {},
   "outputs": [
    {
     "data": {
      "text/html": [
       "<div>\n",
       "<style scoped>\n",
       "    .dataframe tbody tr th:only-of-type {\n",
       "        vertical-align: middle;\n",
       "    }\n",
       "\n",
       "    .dataframe tbody tr th {\n",
       "        vertical-align: top;\n",
       "    }\n",
       "\n",
       "    .dataframe thead th {\n",
       "        text-align: right;\n",
       "    }\n",
       "</style>\n",
       "<table border=\"1\" class=\"dataframe\">\n",
       "  <thead>\n",
       "    <tr style=\"text-align: right;\">\n",
       "      <th></th>\n",
       "      <th>abstract</th>\n",
       "      <th>journal</th>\n",
       "      <th>keywords</th>\n",
       "      <th>paper_id</th>\n",
       "      <th>title</th>\n",
       "      <th>year</th>\n",
       "    </tr>\n",
       "  </thead>\n",
       "  <tbody>\n",
       "    <tr>\n",
       "      <th>0</th>\n",
       "      <td>NO_CONTENT</td>\n",
       "      <td>Journal of economic entomology</td>\n",
       "      <td>NaN</td>\n",
       "      <td>55a38b7f2401aa93797cef61</td>\n",
       "      <td>Anopheles stephensi: effect of gamma-radiation...</td>\n",
       "      <td>1978.0</td>\n",
       "    </tr>\n",
       "    <tr>\n",
       "      <th>1</th>\n",
       "      <td>Ecological and population biology issues const...</td>\n",
       "      <td>Science (New York, N.Y.)</td>\n",
       "      <td>NaN</td>\n",
       "      <td>55a4e85b612c6b12aafdb996</td>\n",
       "      <td>The ecology of genetically modified mosquitoes.</td>\n",
       "      <td>2002.0</td>\n",
       "    </tr>\n",
       "    <tr>\n",
       "      <th>2</th>\n",
       "      <td>Thiotepa and its oxygen analogue tepa, used to...</td>\n",
       "      <td>Bulletin of the World Health Organization</td>\n",
       "      <td>NaN</td>\n",
       "      <td>55a4cc5024011b361acddf6f</td>\n",
       "      <td>Persistence of thiotepa and tepa in pupae and ...</td>\n",
       "      <td>1972.0</td>\n",
       "    </tr>\n",
       "    <tr>\n",
       "      <th>3</th>\n",
       "      <td>NO_CONTENT</td>\n",
       "      <td>Journal of economic entomology</td>\n",
       "      <td>NaN</td>\n",
       "      <td>55a56b4824012c2a39230188</td>\n",
       "      <td>Studies on the eradication of Anopheles pharoe...</td>\n",
       "      <td>1967.0</td>\n",
       "    </tr>\n",
       "    <tr>\n",
       "      <th>4</th>\n",
       "      <td>NO_CONTENT</td>\n",
       "      <td>Journal of the American Mosquito Control Assoc...</td>\n",
       "      <td>NaN</td>\n",
       "      <td>55a483792401032899721ae4</td>\n",
       "      <td>A method of computing the effectiveness of an ...</td>\n",
       "      <td>1987.0</td>\n",
       "    </tr>\n",
       "    <tr>\n",
       "      <th>5</th>\n",
       "      <td>NO_CONTENT</td>\n",
       "      <td>Journal of economic entomology</td>\n",
       "      <td>NaN</td>\n",
       "      <td>55a5645424012c2a3920ecb7</td>\n",
       "      <td>Studies on the eradication of Anopheles pharoe...</td>\n",
       "      <td>1966.0</td>\n",
       "    </tr>\n",
       "    <tr>\n",
       "      <th>6</th>\n",
       "      <td>Some simple formulae were obtained which enabl...</td>\n",
       "      <td>Journal of molecular evolution</td>\n",
       "      <td>NaN</td>\n",
       "      <td>55a63b48240199498b9c0751</td>\n",
       "      <td>A simple method for estimating evolutionary ra...</td>\n",
       "      <td>1980.0</td>\n",
       "    </tr>\n",
       "    <tr>\n",
       "      <th>7</th>\n",
       "      <td>Arlequin ver 3.0 is a software package integra...</td>\n",
       "      <td>Evolutionary bioinformatics online</td>\n",
       "      <td>NaN</td>\n",
       "      <td>55a4eaedc91bf3b1cc4a184d</td>\n",
       "      <td>Arlequin (version 3.0): an integrated software...</td>\n",
       "      <td>2007.0</td>\n",
       "    </tr>\n",
       "    <tr>\n",
       "      <th>8</th>\n",
       "      <td>Reconstructing phylogenies from intraspecific ...</td>\n",
       "      <td>Molecular biology and evolution</td>\n",
       "      <td>NaN</td>\n",
       "      <td>55a42a2c612ca6486889d813</td>\n",
       "      <td>Median-joining networks for inferring intraspe...</td>\n",
       "      <td>1999.0</td>\n",
       "    </tr>\n",
       "    <tr>\n",
       "      <th>9</th>\n",
       "      <td>If a single ion channel record is observed in ...</td>\n",
       "      <td>Proceedings of the Royal Society of London. Se...</td>\n",
       "      <td>NaN</td>\n",
       "      <td>55a405872401c6de3b7e77b4</td>\n",
       "      <td>Stochastic properties of ion channel openings ...</td>\n",
       "      <td>1990.0</td>\n",
       "    </tr>\n",
       "  </tbody>\n",
       "</table>\n",
       "</div>"
      ],
      "text/plain": [
       "                                            abstract  \\\n",
       "0                                         NO_CONTENT   \n",
       "1  Ecological and population biology issues const...   \n",
       "2  Thiotepa and its oxygen analogue tepa, used to...   \n",
       "3                                         NO_CONTENT   \n",
       "4                                         NO_CONTENT   \n",
       "5                                         NO_CONTENT   \n",
       "6  Some simple formulae were obtained which enabl...   \n",
       "7  Arlequin ver 3.0 is a software package integra...   \n",
       "8  Reconstructing phylogenies from intraspecific ...   \n",
       "9  If a single ion channel record is observed in ...   \n",
       "\n",
       "                                             journal keywords  \\\n",
       "0                     Journal of economic entomology      NaN   \n",
       "1                           Science (New York, N.Y.)      NaN   \n",
       "2          Bulletin of the World Health Organization      NaN   \n",
       "3                     Journal of economic entomology      NaN   \n",
       "4  Journal of the American Mosquito Control Assoc...      NaN   \n",
       "5                     Journal of economic entomology      NaN   \n",
       "6                     Journal of molecular evolution      NaN   \n",
       "7                 Evolutionary bioinformatics online      NaN   \n",
       "8                    Molecular biology and evolution      NaN   \n",
       "9  Proceedings of the Royal Society of London. Se...      NaN   \n",
       "\n",
       "                   paper_id  \\\n",
       "0  55a38b7f2401aa93797cef61   \n",
       "1  55a4e85b612c6b12aafdb996   \n",
       "2  55a4cc5024011b361acddf6f   \n",
       "3  55a56b4824012c2a39230188   \n",
       "4  55a483792401032899721ae4   \n",
       "5  55a5645424012c2a3920ecb7   \n",
       "6  55a63b48240199498b9c0751   \n",
       "7  55a4eaedc91bf3b1cc4a184d   \n",
       "8  55a42a2c612ca6486889d813   \n",
       "9  55a405872401c6de3b7e77b4   \n",
       "\n",
       "                                               title    year  \n",
       "0  Anopheles stephensi: effect of gamma-radiation...  1978.0  \n",
       "1    The ecology of genetically modified mosquitoes.  2002.0  \n",
       "2  Persistence of thiotepa and tepa in pupae and ...  1972.0  \n",
       "3  Studies on the eradication of Anopheles pharoe...  1967.0  \n",
       "4  A method of computing the effectiveness of an ...  1987.0  \n",
       "5  Studies on the eradication of Anopheles pharoe...  1966.0  \n",
       "6  A simple method for estimating evolutionary ra...  1980.0  \n",
       "7  Arlequin (version 3.0): an integrated software...  2007.0  \n",
       "8  Median-joining networks for inferring intraspe...  1999.0  \n",
       "9  Stochastic properties of ion channel openings ...  1990.0  "
      ]
     },
     "execution_count": 5,
     "metadata": {},
     "output_type": "execute_result"
    }
   ],
   "source": [
    "df.head(10)"
   ]
  },
  {
   "cell_type": "code",
   "execution_count": 7,
   "metadata": {},
   "outputs": [
    {
     "data": {
      "text/plain": [
       "838939"
      ]
     },
     "execution_count": 7,
     "metadata": {},
     "output_type": "execute_result"
    }
   ],
   "source": [
    "len(df['paper_id'].unique())"
   ]
  }
 ],
 "metadata": {
  "kernelspec": {
   "display_name": "Python 3",
   "language": "python",
   "name": "python3"
  },
  "language_info": {
   "codemirror_mode": {
    "name": "ipython",
    "version": 3
   },
   "file_extension": ".py",
   "mimetype": "text/x-python",
   "name": "python",
   "nbconvert_exporter": "python",
   "pygments_lexer": "ipython3",
   "version": "3.6.7"
  }
 },
 "nbformat": 4,
 "nbformat_minor": 2
}
